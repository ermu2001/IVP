{
 "cells": [
  {
   "cell_type": "code",
   "execution_count": null,
   "metadata": {},
   "outputs": [],
   "source": [
    "%matplotlib inline\n",
    "import cv2\n",
    "\n",
    "import numpy as np\n",
    "\n",
    "from matplotlib import pyplot as plt"
   ]
  },
  {
   "cell_type": "code",
   "execution_count": null,
   "metadata": {},
   "outputs": [],
   "source": []
  },
  {
   "cell_type": "markdown",
   "metadata": {},
   "source": [
    "# Problem 1 (Working with Images)"
   ]
  },
  {
   "cell_type": "markdown",
   "metadata": {},
   "source": [
    "## (a)\n",
    "Load an RGB color image and display the RGB image as well as the R, G, and B channels separately. Describe what you observe in each component"
   ]
  },
  {
   "cell_type": "code",
   "execution_count": null,
   "metadata": {},
   "outputs": [],
   "source": [
    "img_filename = \"Berries.jpg\"\n",
    "img = cv2.imread(img_filename)\n",
    "img_rgb = cv2.cvtColor(img, cv2.COLOR_BGR2RGB)\n",
    "\n",
    "\n",
    "plt.figure()\n",
    "plt.imshow(img_rgb)\n",
    "\n",
    "\n",
    "img_rgb = np.array(img_rgb)\n",
    "img_r = img_rgb[..., 0]\n",
    "img_g = img_rgb[..., 1]\n",
    "img_b = img_rgb[..., 2]\n",
    "\n",
    "plt.figure(figsize=(40, 20))\n",
    "plt.subplot(1, 3, 1)\n",
    "plt.imshow(img_r, cmap='gray')\n",
    "plt.title(\"Red\")\n",
    "\n",
    "plt.subplot(1, 3, 2)\n",
    "plt.imshow(img_g, cmap='gray')\n",
    "plt.title(\"Green\")\n",
    "\n",
    "plt.subplot(1, 3, 3)\n",
    "plt.imshow(img_b, cmap='gray')\n",
    "plt.title(\"Blue\")\n",
    "\n",
    "plt.show()"
   ]
  },
  {
   "cell_type": "markdown",
   "metadata": {},
   "source": [
    "#### (a) observations\n",
    "- In red sub plane, the red part are extremely light, as all strawberries are light.\n",
    "- In green sub plane, the green part are lighter, the fruit in green are light.\n",
    "- In blue sub plane, the blue part are lighter, the blueberries are light. "
   ]
  },
  {
   "cell_type": "markdown",
   "metadata": {},
   "source": [
    "## (b)\n",
    "Convert the RGB image to the HSV colorspace and display the H, S, and V channels\n",
    "separately. Describe your observations."
   ]
  },
  {
   "cell_type": "code",
   "execution_count": null,
   "metadata": {},
   "outputs": [],
   "source": [
    "img_hsv = cv2.cvtColor(img, cv2.COLOR_BGR2HSV)\n",
    "\n",
    "img_hsv = np.array(img_hsv)\n",
    "img_h = img_hsv[..., 0]\n",
    "img_s = img_hsv[..., 1]\n",
    "img_v = img_hsv[..., 2]\n",
    "\n",
    "plt.figure(figsize=(40, 20))\n",
    "plt.subplot(1, 3, 1)\n",
    "plt.imshow(img_h, cmap='gray')\n",
    "plt.title(\"Hue\")\n",
    "\n",
    "plt.subplot(1, 3, 2)\n",
    "plt.imshow(img_s, cmap='gray')\n",
    "plt.title(\"Saturation\")\n",
    "\n",
    "plt.subplot(1, 3, 3)\n",
    "plt.imshow(img_v, cmap='gray')\n",
    "plt.title(\"Value\")\n",
    "\n",
    "plt.show()"
   ]
  },
  {
   "cell_type": "markdown",
   "metadata": {},
   "source": [
    "#### (b) Observations\n",
    "- In the hue plane, the green part is dark and the red part is light, while the blue part are in between.\n",
    "- In the saturation plane, the strawberries (red) part is light.\n",
    "- In the value plane, the image represents the image that was perceivable as a gray image."
   ]
  },
  {
   "cell_type": "markdown",
   "metadata": {},
   "source": [
    "## (c) \n",
    "Detect blue pixels, defined by having a hue in range [110, 130]. Your detected pixels should be in the form of a binary mask. Use this mask to display only the blue pixels of your original image, with the non-blue pixels displayed as black."
   ]
  },
  {
   "cell_type": "code",
   "execution_count": null,
   "metadata": {},
   "outputs": [],
   "source": [
    "blue_mask = (img_h > 110) & (img_h < 130)\n",
    "plt.imshow(blue_mask, cmap='gray')\n",
    "plt.show()"
   ]
  },
  {
   "cell_type": "markdown",
   "metadata": {},
   "source": [
    "# Problem 2 (Contrast Enhancement)"
   ]
  },
  {
   "cell_type": "markdown",
   "metadata": {},
   "source": [
    "## (a) \n",
    "Load and display a low-contrast grayscale image"
   ]
  },
  {
   "cell_type": "code",
   "execution_count": null,
   "metadata": {},
   "outputs": [],
   "source": [
    "img_filename = \"low-contrast.jpg\"\n",
    "img = cv2.imread(img_filename)\n",
    "img = cv2.cvtColor(img, cv2.COLOR_BGR2GRAY)\n",
    "plt.figure()\n",
    "plt.imshow(img, cmap='gray')\n"
   ]
  },
  {
   "cell_type": "markdown",
   "metadata": {},
   "source": [
    "## (b)\n",
    "Calculate and plot the image’s histogram. Comment on the relation between the\n",
    "image’s contrast and its histogram."
   ]
  },
  {
   "cell_type": "code",
   "execution_count": null,
   "metadata": {},
   "outputs": [],
   "source": [
    "import itertools\n",
    "def hist(img):\n",
    "    hist_array = np.zeros(256, dtype=int)\n",
    "    for y, x in itertools.product(range(img.shape[0]), range(img.shape[1])):\n",
    "        hist_array[img[y, x]] += 1\n",
    "    return hist_array"
   ]
  },
  {
   "cell_type": "code",
   "execution_count": null,
   "metadata": {},
   "outputs": [],
   "source": [
    "hist_array = hist(img)\n",
    "plt.bar(range(len(hist_array)), hist_array)\n",
    "plt.title(\"Histogram\")\n",
    "plt.show()\n"
   ]
  },
  {
   "cell_type": "markdown",
   "metadata": {},
   "source": [
    "#### (b) comment\n",
    "- The pixel values for the gray image concentrates within the range of [0, 75].\n",
    "- The image is low contrast and some of the difference between columns in the image is barely visible"
   ]
  },
  {
   "cell_type": "markdown",
   "metadata": {},
   "source": [
    "## (c)\n",
    "Recall, we derived in lecture that the cumulative distribution function (CDF) of the\n",
    "histogram is the theoretic optimal histogram-equalization transformation function.\n",
    "Plot the CDF of your histogram. Is this an appropriate equalization function? Why\n",
    "or why not?"
   ]
  },
  {
   "cell_type": "markdown",
   "metadata": {},
   "source": [
    "#### Comment\n",
    "Yes, this is a appropriate equalization function since it assigns low value pixels with high values. Through the process, it would be able to compress the number of low value pixels and spread out the distribution for the pixel values of the image. "
   ]
  },
  {
   "cell_type": "code",
   "execution_count": null,
   "metadata": {},
   "outputs": [],
   "source": [
    "cdf_array = hist_array.cumsum()\n",
    "cdf_array = cdf_array / cdf_array[-1] * 255\n",
    "plt.plot(range(len(cdf_array)), cdf_array)\n",
    "plt.title(\"CDF\")\n",
    "plt.show()\n"
   ]
  },
  {
   "cell_type": "markdown",
   "metadata": {},
   "source": [
    "## (d)\n",
    "Apply the CDF as a transformation function to your image1\n",
    ". Display your transformed image and its histogram. Has your image’s histogram been equalized? Comment on the your original image and histogram vs. the transformed image and\n",
    "histogram"
   ]
  },
  {
   "cell_type": "code",
   "execution_count": null,
   "metadata": {},
   "outputs": [],
   "source": [
    "img_enhanced = np.round(cdf_array[img]).astype(np.uint8)\n",
    "img_enhanced_hist_array = hist(img_enhanced)\n",
    "plt.figure(figsize=(20, 5))\n",
    "plt.subplot(1, 2, 1)\n",
    "plt.bar(range(len(img_enhanced_hist_array)), img_enhanced_hist_array)\n",
    "plt.title(\"Enhanced Image Histogram\")\n",
    "\n",
    "plt.subplot(1, 2, 2)\n",
    "plt.bar(range(len(hist_array)), hist_array)\n",
    "plt.title(\"Original Image Histogram\")\n",
    "plt.show()\n",
    "\n",
    "plt.figure()\n",
    "plt.subplot(1, 2, 1)\n",
    "plt.title(\"Enhanced Image\")\n",
    "plt.imshow(img_enhanced, cmap='gray')\n",
    "plt.subplot(1, 2, 2)\n",
    "plt.title(\"Original Image\")\n",
    "plt.imshow(img, cmap='gray')\n",
    "plt.show()"
   ]
  },
  {
   "cell_type": "markdown",
   "metadata": {},
   "source": [
    "#### Comment\n",
    "- The enhanced image's histogram is not perfectly flat out.\n",
    "- However, the enhanced image's histogram is a spread out version of the original histogram. Where the range of pixels from 0-75 was converted to 0-255 in a more sparse distribution.\n",
    "- The image is more contrast and the columns' difference are more visible. "
   ]
  },
  {
   "cell_type": "code",
   "execution_count": null,
   "metadata": {},
   "outputs": [],
   "source": []
  }
 ],
 "metadata": {
  "kernelspec": {
   "display_name": "ml",
   "language": "python",
   "name": "python3"
  },
  "language_info": {
   "codemirror_mode": {
    "name": "ipython",
    "version": 3
   },
   "file_extension": ".py",
   "mimetype": "text/x-python",
   "name": "python",
   "nbconvert_exporter": "python",
   "pygments_lexer": "ipython3",
   "version": "3.11.5"
  }
 },
 "nbformat": 4,
 "nbformat_minor": 2
}
