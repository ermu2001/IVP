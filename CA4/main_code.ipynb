{
 "cells": [
  {
   "cell_type": "code",
   "execution_count": null,
   "metadata": {
    "colab": {
     "base_uri": "https://localhost:8080/"
    },
    "id": "slheMbHImHtg",
    "outputId": "fb49abbc-a3eb-47e4-8a3f-5e3be7129989"
   },
   "outputs": [],
   "source": [
    "# from google.colab import drive\n",
    "# drive.mount('/content/drive')\n",
    "# !cp /content/drive/MyDrive/CA4/*.py .\n",
    "# !cp -r /content/drive/MyDrive/CA4/conf ."
   ]
  },
  {
   "cell_type": "code",
   "execution_count": null,
   "metadata": {
    "colab": {
     "base_uri": "https://localhost:8080/",
     "height": 999
    },
    "id": "DHYWXzrJmgRT",
    "outputId": "84fdaf30-c5e9-47c8-800b-4aa0193adfdb"
   },
   "outputs": [],
   "source": [
    "!pip install hydra-core --no-binary :all:\n",
    "!pip install wandb"
   ]
  },
  {
   "cell_type": "markdown",
   "metadata": {
    "id": "pyrFra0Sn0t4"
   },
   "source": []
  },
  {
   "cell_type": "code",
   "execution_count": null,
   "metadata": {
    "id": "Z8xXGhwgmE3X"
   },
   "outputs": [],
   "source": [
    "%load_ext autoreload\n",
    "%autoreload 2\n",
    "from train import run\n",
    "import os\n",
    "import os.path as osp\n",
    "from hydra import initialize, initialize_config_module, initialize_config_dir, compose\n",
    "from omegaconf import OmegaConf"
   ]
  },
  {
   "cell_type": "code",
   "execution_count": null,
   "metadata": {
    "colab": {
     "base_uri": "https://localhost:8080/"
    },
    "id": "VN7Eo8AwmE3a",
    "outputId": "d632b624-201a-49c9-c973-96931a188790"
   },
   "outputs": [],
   "source": [
    "with initialize(version_base=None, config_path=\"conf\"):\n",
    "    cfg = compose(config_name=\"config\")\n",
    "    print(cfg)\n",
    "    data_root = cfg.data.data_root\n",
    "    if not osp.exists(data_root):\n",
    "        os.makedirs(data_root, exist_ok=True)\n",
    "        data_root_father = osp.dirname(data_root)\n",
    "        !wget https://www.cis.upenn.edu/~jshi/ped_html/PennFudanPed.zip -O {data_root_father}/data.zip\n",
    "        !unzip {data_root_father}/data.zip -d {data_root_father}"
   ]
  },
  {
   "cell_type": "code",
   "execution_count": null,
   "metadata": {
    "colab": {
     "base_uri": "https://localhost:8080/",
     "height": 138
    },
    "id": "paxdk_87mE3b",
    "outputId": "e9563f76-fa99-4b3d-b057-35b60505268a"
   },
   "outputs": [],
   "source": [
    "# wandb\n",
    "import wandb\n",
    "wandb.login()\n"
   ]
  },
  {
   "cell_type": "markdown",
   "metadata": {
    "id": "oS8aPA3pmE3b"
   },
   "source": [
    "# Define a sweep"
   ]
  },
  {
   "cell_type": "code",
   "execution_count": null,
   "metadata": {
    "colab": {
     "base_uri": "https://localhost:8080/"
    },
    "id": "jJTnCOt1mE3c",
    "outputId": "02fcad9f-2808-4750-81a1-e77842767c47"
   },
   "outputs": [],
   "source": [
    "sweep_configuration = {\n",
    "    \"name\": \"sweep-hyperparams\",\n",
    "    \"method\": \"bayes\",\n",
    "    \"metric\": {\"goal\": \"maximize\", \"name\": \"epoch_val_dice_score\"},\n",
    "    \"parameters\": {\n",
    "        \"learning_rate\": {\n",
    "            \"values\": [1e-4, 1e-5],\n",
    "\n",
    "        },\n",
    "        \"batch_size\": {\"values\": [8, 16, 32]},\n",
    "        \"epochs\": {\"values\": [30, 120, 300]},\n",
    "        \"img_size\": {\n",
    "            \"values\": [64, 128],\n",
    "        },\n",
    "    },\n",
    "}\n",
    "# sweep_id = wandb.sweep(sweep=sweep_configuration, project=\"pedestrian-detection\")\n",
    "sweep_id = \"bp8sw90v\"\n",
    "print(sweep_id)"
   ]
  },
  {
   "cell_type": "markdown",
   "metadata": {
    "id": "JoQ86oDMmE3d"
   },
   "source": [
    "# Sweep run"
   ]
  },
  {
   "cell_type": "code",
   "execution_count": null,
   "metadata": {
    "id": "xrojYFElmE3d"
   },
   "outputs": [],
   "source": [
    "from train import run\n",
    "def sweep_train():\n",
    "    from hydra import initialize, compose\n",
    "    wandb.init()\n",
    "    with initialize(version_base=None, config_path=\"conf\"):\n",
    "        cfg = compose(config_name=\"config\",\n",
    "                overrides=[f\"train.optimizer.lr={wandb.config.learning_rate}\",\n",
    "                      f\"train.batch_size={wandb.config.batch_size}\",\n",
    "                      f\"train.num_epochs={wandb.config.epochs}\",\n",
    "                      f\"train.img_size={wandb.config.img_size}\",\n",
    "                      f\"wandb.name={wandb.run.name}\",])\n",
    "\n",
    "\n",
    "        run(cfg)"
   ]
  },
  {
   "cell_type": "code",
   "execution_count": null,
   "metadata": {
    "id": "uF2ppDCzmE3d"
   },
   "outputs": [],
   "source": []
  },
  {
   "cell_type": "code",
   "execution_count": null,
   "metadata": {
    "colab": {
     "base_uri": "https://localhost:8080/",
     "height": 1000,
     "referenced_widgets": [
      "5170a2d81ef746ce9d6a3217d7671306",
      "014bd1ac9f394344ab614d6c7345ade0",
      "08e759d69a0b4834871e1d8e7762d1b0",
      "84f0160032e546f88d6827463d7fea42",
      "b25e70abe11e4445b95a1b28e4751f9c",
      "b351f46168f04249b07dc8fb616e6973",
      "74c75f8ed3844374bf290aced6da0b2a",
      "f3c75b4892034fad9e384e8e7d6fb744"
     ]
    },
    "id": "OQk-Eol0mE3d",
    "outputId": "f03ecc8c-4d20-4da6-f359-61cb12ef7234"
   },
   "outputs": [],
   "source": [
    "wandb.agent(sweep_id, function=sweep_train, project=\"pedestrian-detection\")"
   ]
  },
  {
   "cell_type": "markdown",
   "metadata": {
    "id": "i8DOa7temE3e"
   },
   "source": []
  }
 ],
 "metadata": {
  "accelerator": "GPU",
  "colab": {
   "gpuType": "T4",
   "provenance": []
  },
  "kernelspec": {
   "display_name": "dl",
   "language": "python",
   "name": "python3"
  },
  "language_info": {
   "codemirror_mode": {
    "name": "ipython",
    "version": 3
   },
   "file_extension": ".py",
   "mimetype": "text/x-python",
   "name": "python",
   "nbconvert_exporter": "python",
   "pygments_lexer": "ipython3",
   "version": "3.10.13"
  },
  "widgets": {
   "application/vnd.jupyter.widget-state+json": {
    "014bd1ac9f394344ab614d6c7345ade0": {
     "model_module": "@jupyter-widgets/controls",
     "model_module_version": "1.5.0",
     "model_name": "LabelModel",
     "state": {
      "_dom_classes": [],
      "_model_module": "@jupyter-widgets/controls",
      "_model_module_version": "1.5.0",
      "_model_name": "LabelModel",
      "_view_count": null,
      "_view_module": "@jupyter-widgets/controls",
      "_view_module_version": "1.5.0",
      "_view_name": "LabelView",
      "description": "",
      "description_tooltip": null,
      "layout": "IPY_MODEL_b25e70abe11e4445b95a1b28e4751f9c",
      "placeholder": "​",
      "style": "IPY_MODEL_b351f46168f04249b07dc8fb616e6973",
      "value": "Waiting for wandb.init()...\r"
     }
    },
    "08e759d69a0b4834871e1d8e7762d1b0": {
     "model_module": "@jupyter-widgets/controls",
     "model_module_version": "1.5.0",
     "model_name": "FloatProgressModel",
     "state": {
      "_dom_classes": [],
      "_model_module": "@jupyter-widgets/controls",
      "_model_module_version": "1.5.0",
      "_model_name": "FloatProgressModel",
      "_view_count": null,
      "_view_module": "@jupyter-widgets/controls",
      "_view_module_version": "1.5.0",
      "_view_name": "ProgressView",
      "bar_style": "",
      "description": "",
      "description_tooltip": null,
      "layout": "IPY_MODEL_74c75f8ed3844374bf290aced6da0b2a",
      "max": 1,
      "min": 0,
      "orientation": "horizontal",
      "style": "IPY_MODEL_f3c75b4892034fad9e384e8e7d6fb744",
      "value": 1
     }
    },
    "5170a2d81ef746ce9d6a3217d7671306": {
     "model_module": "@jupyter-widgets/controls",
     "model_module_version": "1.5.0",
     "model_name": "VBoxModel",
     "state": {
      "_dom_classes": [],
      "_model_module": "@jupyter-widgets/controls",
      "_model_module_version": "1.5.0",
      "_model_name": "VBoxModel",
      "_view_count": null,
      "_view_module": "@jupyter-widgets/controls",
      "_view_module_version": "1.5.0",
      "_view_name": "VBoxView",
      "box_style": "",
      "children": [
       "IPY_MODEL_014bd1ac9f394344ab614d6c7345ade0",
       "IPY_MODEL_08e759d69a0b4834871e1d8e7762d1b0"
      ],
      "layout": "IPY_MODEL_84f0160032e546f88d6827463d7fea42"
     }
    },
    "74c75f8ed3844374bf290aced6da0b2a": {
     "model_module": "@jupyter-widgets/base",
     "model_module_version": "1.2.0",
     "model_name": "LayoutModel",
     "state": {
      "_model_module": "@jupyter-widgets/base",
      "_model_module_version": "1.2.0",
      "_model_name": "LayoutModel",
      "_view_count": null,
      "_view_module": "@jupyter-widgets/base",
      "_view_module_version": "1.2.0",
      "_view_name": "LayoutView",
      "align_content": null,
      "align_items": null,
      "align_self": null,
      "border": null,
      "bottom": null,
      "display": null,
      "flex": null,
      "flex_flow": null,
      "grid_area": null,
      "grid_auto_columns": null,
      "grid_auto_flow": null,
      "grid_auto_rows": null,
      "grid_column": null,
      "grid_gap": null,
      "grid_row": null,
      "grid_template_areas": null,
      "grid_template_columns": null,
      "grid_template_rows": null,
      "height": null,
      "justify_content": null,
      "justify_items": null,
      "left": null,
      "margin": null,
      "max_height": null,
      "max_width": null,
      "min_height": null,
      "min_width": null,
      "object_fit": null,
      "object_position": null,
      "order": null,
      "overflow": null,
      "overflow_x": null,
      "overflow_y": null,
      "padding": null,
      "right": null,
      "top": null,
      "visibility": null,
      "width": null
     }
    },
    "84f0160032e546f88d6827463d7fea42": {
     "model_module": "@jupyter-widgets/base",
     "model_module_version": "1.2.0",
     "model_name": "LayoutModel",
     "state": {
      "_model_module": "@jupyter-widgets/base",
      "_model_module_version": "1.2.0",
      "_model_name": "LayoutModel",
      "_view_count": null,
      "_view_module": "@jupyter-widgets/base",
      "_view_module_version": "1.2.0",
      "_view_name": "LayoutView",
      "align_content": null,
      "align_items": null,
      "align_self": null,
      "border": null,
      "bottom": null,
      "display": null,
      "flex": null,
      "flex_flow": null,
      "grid_area": null,
      "grid_auto_columns": null,
      "grid_auto_flow": null,
      "grid_auto_rows": null,
      "grid_column": null,
      "grid_gap": null,
      "grid_row": null,
      "grid_template_areas": null,
      "grid_template_columns": null,
      "grid_template_rows": null,
      "height": null,
      "justify_content": null,
      "justify_items": null,
      "left": null,
      "margin": null,
      "max_height": null,
      "max_width": null,
      "min_height": null,
      "min_width": null,
      "object_fit": null,
      "object_position": null,
      "order": null,
      "overflow": null,
      "overflow_x": null,
      "overflow_y": null,
      "padding": null,
      "right": null,
      "top": null,
      "visibility": null,
      "width": null
     }
    },
    "b25e70abe11e4445b95a1b28e4751f9c": {
     "model_module": "@jupyter-widgets/base",
     "model_module_version": "1.2.0",
     "model_name": "LayoutModel",
     "state": {
      "_model_module": "@jupyter-widgets/base",
      "_model_module_version": "1.2.0",
      "_model_name": "LayoutModel",
      "_view_count": null,
      "_view_module": "@jupyter-widgets/base",
      "_view_module_version": "1.2.0",
      "_view_name": "LayoutView",
      "align_content": null,
      "align_items": null,
      "align_self": null,
      "border": null,
      "bottom": null,
      "display": null,
      "flex": null,
      "flex_flow": null,
      "grid_area": null,
      "grid_auto_columns": null,
      "grid_auto_flow": null,
      "grid_auto_rows": null,
      "grid_column": null,
      "grid_gap": null,
      "grid_row": null,
      "grid_template_areas": null,
      "grid_template_columns": null,
      "grid_template_rows": null,
      "height": null,
      "justify_content": null,
      "justify_items": null,
      "left": null,
      "margin": null,
      "max_height": null,
      "max_width": null,
      "min_height": null,
      "min_width": null,
      "object_fit": null,
      "object_position": null,
      "order": null,
      "overflow": null,
      "overflow_x": null,
      "overflow_y": null,
      "padding": null,
      "right": null,
      "top": null,
      "visibility": null,
      "width": null
     }
    },
    "b351f46168f04249b07dc8fb616e6973": {
     "model_module": "@jupyter-widgets/controls",
     "model_module_version": "1.5.0",
     "model_name": "DescriptionStyleModel",
     "state": {
      "_model_module": "@jupyter-widgets/controls",
      "_model_module_version": "1.5.0",
      "_model_name": "DescriptionStyleModel",
      "_view_count": null,
      "_view_module": "@jupyter-widgets/base",
      "_view_module_version": "1.2.0",
      "_view_name": "StyleView",
      "description_width": ""
     }
    },
    "f3c75b4892034fad9e384e8e7d6fb744": {
     "model_module": "@jupyter-widgets/controls",
     "model_module_version": "1.5.0",
     "model_name": "ProgressStyleModel",
     "state": {
      "_model_module": "@jupyter-widgets/controls",
      "_model_module_version": "1.5.0",
      "_model_name": "ProgressStyleModel",
      "_view_count": null,
      "_view_module": "@jupyter-widgets/base",
      "_view_module_version": "1.2.0",
      "_view_name": "StyleView",
      "bar_color": null,
      "description_width": ""
     }
    }
   }
  }
 },
 "nbformat": 4,
 "nbformat_minor": 0
}
