{
 "cells": [
  {
   "cell_type": "code",
   "execution_count": 1,
   "metadata": {},
   "outputs": [],
   "source": [
    "%load_ext autoreload\n",
    "%autoreload 2\n",
    "from train import run\n",
    "import os\n",
    "import os.path as osp\n",
    "from hydra import initialize, initialize_config_module, initialize_config_dir, compose\n",
    "from omegaconf import OmegaConf"
   ]
  },
  {
   "cell_type": "code",
   "execution_count": null,
   "metadata": {},
   "outputs": [],
   "source": [
    "with initialize(version_base=None, config_path=\"conf\"):\n",
    "    cfg = compose(config_name=\"config\")\n",
    "    print(cfg)\n",
    "    data_root = cfg.data.data_root\n",
    "    if not osp.exists(data_root):\n",
    "        os.makedirs(data_root, exist_ok=True)\n",
    "        data_root_father = osp.dirname(data_root)\n",
    "        !wget https://www.cis.upenn.edu/~jshi/ped_html/PennFudanPed.zip -O {data_root_father}/data.zip\n",
    "        !unzip {data_root_father}/data.zip -d {data_root}\n",
    "    # run(cfg)"
   ]
  },
  {
   "cell_type": "code",
   "execution_count": null,
   "metadata": {},
   "outputs": [],
   "source": [
    "# wandb\n",
    "import wandb\n",
    "wandb.login()\n"
   ]
  },
  {
   "cell_type": "markdown",
   "metadata": {},
   "source": [
    "# Define a sweep"
   ]
  },
  {
   "cell_type": "code",
   "execution_count": 2,
   "metadata": {},
   "outputs": [],
   "source": [
    "sweep_configuration = {\n",
    "    \"name\": \"sweep-hyperparams\",\n",
    "    \"method\": \"bayes\",\n",
    "    \"metric\": {\"goal\": \"maximize\", \"name\": \"epoch_val_dice_score\"},\n",
    "    \"parameters\": {\n",
    "        \"learning_rate\": {\n",
    "            \"values\": [1e-3, 1e-4, 1e-5],\n",
    "\n",
    "        },\n",
    "        \"batch_size\": {\"values\": [16, 32, 64]},\n",
    "        \"epochs\": {\"values\": [30, 120, 300]},\n",
    "        \"img_size\": {\n",
    "            \"values\": [64, 128, 256],\n",
    "        },\n",
    "    },\n",
    "}\n",
    "\n",
    "# sweep_id = \"b1p8nwvg\"\n",
    "sweep_id = wandb.sweep(sweep=sweep_configuration, project=\"sweep-hyperparams\")\n"
   ]
  },
  {
   "cell_type": "markdown",
   "metadata": {},
   "source": [
    "# Sweep run"
   ]
  },
  {
   "cell_type": "code",
   "execution_count": 9,
   "metadata": {},
   "outputs": [],
   "source": [
    "from train import run\n",
    "def sweep_train():\n",
    "    from hydra import initialize, compose\n",
    "    wandb.init()\n",
    "    with initialize(version_base=None, config_path=\"conf\"):\n",
    "        cfg = compose(config_name=\"config\",\n",
    "                      overrides=[f\"train.optimizer.lr={wandb.config.learning_rate}\",\n",
    "                                 f\"train.batch_size={wandb.config.batch_size}\",\n",
    "                                 f\"train.num_epochs={wandb.config.epochs}\",\n",
    "                                 f\"train.img_size={wandb.config.img_size}\"])\n",
    "        \n",
    "        run(cfg)"
   ]
  },
  {
   "cell_type": "code",
   "execution_count": 10,
   "metadata": {},
   "outputs": [],
   "source": []
  },
  {
   "cell_type": "code",
   "execution_count": null,
   "metadata": {},
   "outputs": [],
   "source": [
    "# sweep_id = wandb.sweep(sweep=sweep_configuration, project=\"pedestrian-detection\")\n",
    "wandb.agent(sweep_id, function=sweep_train)"
   ]
  },
  {
   "cell_type": "markdown",
   "metadata": {},
   "source": []
  }
 ],
 "metadata": {
  "kernelspec": {
   "display_name": "dl",
   "language": "python",
   "name": "python3"
  },
  "language_info": {
   "codemirror_mode": {
    "name": "ipython",
    "version": 3
   },
   "file_extension": ".py",
   "mimetype": "text/x-python",
   "name": "python",
   "nbconvert_exporter": "python",
   "pygments_lexer": "ipython3",
   "version": "3.10.13"
  }
 },
 "nbformat": 4,
 "nbformat_minor": 2
}
